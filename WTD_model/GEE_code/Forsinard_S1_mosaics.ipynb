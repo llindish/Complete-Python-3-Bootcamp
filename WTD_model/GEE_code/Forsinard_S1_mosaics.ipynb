{
  "nbformat": 4,
  "nbformat_minor": 0,
  "metadata": {
    "colab": {
      "provenance": [],
      "authorship_tag": "ABX9TyO8pvSyEmf5Hy79Ei9ssE0q",
      "include_colab_link": true
    },
    "kernelspec": {
      "name": "python3",
      "display_name": "Python 3"
    },
    "language_info": {
      "name": "python"
    },
    "widgets": {
      "application/vnd.jupyter.widget-state+json": {
        "1c5af9ef53134e6da48965853a948368": {
          "model_module": "jupyter-leaflet",
          "model_name": "LeafletMapModel",
          "model_module_version": "^0.18",
          "state": {
            "_dom_classes": [],
            "_model_module": "jupyter-leaflet",
            "_model_module_version": "^0.18",
            "_model_name": "LeafletMapModel",
            "_view_count": null,
            "_view_module": "jupyter-leaflet",
            "_view_module_version": "^0.18",
            "_view_name": "LeafletMapView",
            "bottom": 627580,
            "bounce_at_zoom_limits": true,
            "box_zoom": true,
            "center": [
              58.394536127699844,
              -3.8406067140690543
            ],
            "close_popup_on_click": true,
            "controls": [
              "IPY_MODEL_7b7913c8d53d490095d1683439192924",
              "IPY_MODEL_f9852f379f6744a5a4b2c73124489671",
              "IPY_MODEL_e98fa4dfd5a44c5fbdd010c161f74c67",
              "IPY_MODEL_fc1d9d9c3a5a472590e1048b8e759e00",
              "IPY_MODEL_e90ec94961e348ecab89b5cc71351116",
              "IPY_MODEL_fd7fb02b44b34543b918baab9ed865f5",
              "IPY_MODEL_6157fbb29ae94d24bf119ceeca322442",
              "IPY_MODEL_2a011bb19fe148dcbd08853955d7e580"
            ],
            "crs": {
              "name": "EPSG3857",
              "custom": false
            },
            "default_style": "IPY_MODEL_08ee0fa8344d48ce9f89c80831710373",
            "double_click_zoom": true,
            "dragging": true,
            "dragging_style": "IPY_MODEL_6fb6d76aa3944f07bf8aa92ac9cbdd20",
            "east": -3.7049674987792973,
            "fullscreen": false,
            "inertia": true,
            "inertia_deceleration": 3000,
            "inertia_max_speed": 1500,
            "interpolation": "bilinear",
            "keyboard": true,
            "keyboard_pan_offset": 80,
            "keyboard_zoom_offset": 1,
            "layers": [
              "IPY_MODEL_309ba888638448518844b26036986cc6",
              "IPY_MODEL_2d40761fbdab45b591942df7f2555441",
              "IPY_MODEL_86847e7596624771b07e9b68fef535e0",
              "IPY_MODEL_1fa96e5ee3024ed2bba34c4844526742"
            ],
            "layout": "IPY_MODEL_96179a5fc73d43bdb1f1014319c3ad61",
            "left": 1025413,
            "max_zoom": 24,
            "min_zoom": null,
            "modisdate": "2024-03-06",
            "north": 58.42149374408309,
            "options": [
              "bounce_at_zoom_limits",
              "box_zoom",
              "center",
              "close_popup_on_click",
              "double_click_zoom",
              "dragging",
              "fullscreen",
              "inertia",
              "inertia_deceleration",
              "inertia_max_speed",
              "interpolation",
              "keyboard",
              "keyboard_pan_offset",
              "keyboard_zoom_offset",
              "max_zoom",
              "min_zoom",
              "prefer_canvas",
              "scroll_wheel_zoom",
              "tap",
              "tap_tolerance",
              "touch_zoom",
              "world_copy_jump",
              "zoom",
              "zoom_animation_threshold",
              "zoom_delta",
              "zoom_snap"
            ],
            "panes": {},
            "prefer_canvas": false,
            "right": 1026993,
            "scroll_wheel_zoom": true,
            "south": 58.3675164583957,
            "style": "IPY_MODEL_94b0415e024e4d3492a6bafca2c371ac",
            "tap": true,
            "tap_tolerance": 15,
            "top": 626980,
            "touch_zoom": true,
            "west": -3.976192474365235,
            "window_url": "https://2k76kyrj272-496ff2e9c6d22116-0-colab.googleusercontent.com/outputframe.html?vrz=colab_20240305-060336_RC00_612796517",
            "world_copy_jump": false,
            "zoom": 13,
            "zoom_animation_threshold": 4,
            "zoom_delta": 1,
            "zoom_snap": 1
          }
        },
        "7b7913c8d53d490095d1683439192924": {
          "model_module": "jupyter-leaflet",
          "model_name": "LeafletWidgetControlModel",
          "model_module_version": "^0.18",
          "state": {
            "_model_module": "jupyter-leaflet",
            "_model_module_version": "^0.18",
            "_model_name": "LeafletWidgetControlModel",
            "_view_count": null,
            "_view_module": "jupyter-leaflet",
            "_view_module_version": "^0.18",
            "_view_name": "LeafletWidgetControlView",
            "max_height": null,
            "max_width": null,
            "min_height": null,
            "min_width": null,
            "options": [
              "position",
              "transparent_bg"
            ],
            "position": "topleft",
            "transparent_bg": false,
            "widget": "IPY_MODEL_e1350328566d449da02d53bb9fa599a3"
          }
        },
        "f9852f379f6744a5a4b2c73124489671": {
          "model_module": "jupyter-leaflet",
          "model_name": "LeafletZoomControlModel",
          "model_module_version": "^0.18",
          "state": {
            "_model_module": "jupyter-leaflet",
            "_model_module_version": "^0.18",
            "_model_name": "LeafletZoomControlModel",
            "_view_count": null,
            "_view_module": "jupyter-leaflet",
            "_view_module_version": "^0.18",
            "_view_name": "LeafletZoomControlView",
            "options": [
              "position",
              "zoom_in_text",
              "zoom_in_title",
              "zoom_out_text",
              "zoom_out_title"
            ],
            "position": "topleft",
            "zoom_in_text": "+",
            "zoom_in_title": "Zoom in",
            "zoom_out_text": "-",
            "zoom_out_title": "Zoom out"
          }
        },
        "e98fa4dfd5a44c5fbdd010c161f74c67": {
          "model_module": "jupyter-leaflet",
          "model_name": "LeafletFullScreenControlModel",
          "model_module_version": "^0.18",
          "state": {
            "_model_module": "jupyter-leaflet",
            "_model_module_version": "^0.18",
            "_model_name": "LeafletFullScreenControlModel",
            "_view_count": null,
            "_view_module": "jupyter-leaflet",
            "_view_module_version": "^0.18",
            "_view_name": "LeafletFullScreenControlView",
            "options": [
              "position"
            ],
            "position": "topleft"
          }
        },
        "fc1d9d9c3a5a472590e1048b8e759e00": {
          "model_module": "jupyter-leaflet",
          "model_name": "LeafletDrawControlModel",
          "model_module_version": "^0.18",
          "state": {
            "_model_module": "jupyter-leaflet",
            "_model_module_version": "^0.18",
            "_model_name": "LeafletDrawControlModel",
            "_view_count": null,
            "_view_module": "jupyter-leaflet",
            "_view_module_version": "^0.18",
            "_view_name": "LeafletDrawControlView",
            "circle": {},
            "circlemarker": {},
            "data": [],
            "edit": true,
            "marker": {
              "shapeOptions": {
                "color": "#3388ff"
              }
            },
            "options": [
              "position"
            ],
            "polygon": {
              "shapeOptions": {}
            },
            "polyline": {
              "shapeOptions": {}
            },
            "position": "topleft",
            "rectangle": {
              "shapeOptions": {
                "color": "#3388ff"
              }
            },
            "remove": true
          }
        },
        "e90ec94961e348ecab89b5cc71351116": {
          "model_module": "jupyter-leaflet",
          "model_name": "LeafletScaleControlModel",
          "model_module_version": "^0.18",
          "state": {
            "_model_module": "jupyter-leaflet",
            "_model_module_version": "^0.18",
            "_model_name": "LeafletScaleControlModel",
            "_view_count": null,
            "_view_module": "jupyter-leaflet",
            "_view_module_version": "^0.18",
            "_view_name": "LeafletScaleControlView",
            "imperial": true,
            "max_width": 100,
            "metric": true,
            "options": [
              "imperial",
              "max_width",
              "metric",
              "position",
              "update_when_idle"
            ],
            "position": "bottomleft",
            "update_when_idle": false
          }
        },
        "fd7fb02b44b34543b918baab9ed865f5": {
          "model_module": "jupyter-leaflet",
          "model_name": "LeafletMeasureControlModel",
          "model_module_version": "^0.18",
          "state": {
            "_custom_units": {},
            "_model_module": "jupyter-leaflet",
            "_model_module_version": "^0.18",
            "_model_name": "LeafletMeasureControlModel",
            "_view_count": null,
            "_view_module": "jupyter-leaflet",
            "_view_module_version": "^0.18",
            "_view_name": "LeafletMeasureControlView",
            "active_color": "orange",
            "capture_z_index": 10000,
            "completed_color": "#C8F2BE",
            "options": [
              "active_color",
              "capture_z_index",
              "completed_color",
              "popup_options",
              "position",
              "primary_area_unit",
              "primary_length_unit",
              "secondary_area_unit",
              "secondary_length_unit"
            ],
            "popup_options": {
              "className": "leaflet-measure-resultpopup",
              "autoPanPadding": [
                10,
                10
              ]
            },
            "position": "bottomleft",
            "primary_area_unit": "acres",
            "primary_length_unit": "kilometers",
            "secondary_area_unit": null,
            "secondary_length_unit": null
          }
        },
        "6157fbb29ae94d24bf119ceeca322442": {
          "model_module": "jupyter-leaflet",
          "model_name": "LeafletWidgetControlModel",
          "model_module_version": "^0.18",
          "state": {
            "_model_module": "jupyter-leaflet",
            "_model_module_version": "^0.18",
            "_model_name": "LeafletWidgetControlModel",
            "_view_count": null,
            "_view_module": "jupyter-leaflet",
            "_view_module_version": "^0.18",
            "_view_name": "LeafletWidgetControlView",
            "max_height": null,
            "max_width": null,
            "min_height": null,
            "min_width": null,
            "options": [
              "position",
              "transparent_bg"
            ],
            "position": "topright",
            "transparent_bg": false,
            "widget": "IPY_MODEL_b31f41c4a75c43f196701ceb8845f408"
          }
        },
        "2a011bb19fe148dcbd08853955d7e580": {
          "model_module": "jupyter-leaflet",
          "model_name": "LeafletAttributionControlModel",
          "model_module_version": "^0.18",
          "state": {
            "_model_module": "jupyter-leaflet",
            "_model_module_version": "^0.18",
            "_model_name": "LeafletAttributionControlModel",
            "_view_count": null,
            "_view_module": "jupyter-leaflet",
            "_view_module_version": "^0.18",
            "_view_name": "LeafletAttributionControlView",
            "options": [
              "position",
              "prefix"
            ],
            "position": "bottomright",
            "prefix": "ipyleaflet"
          }
        },
        "08ee0fa8344d48ce9f89c80831710373": {
          "model_module": "jupyter-leaflet",
          "model_name": "LeafletMapStyleModel",
          "model_module_version": "^0.18",
          "state": {
            "_model_module": "jupyter-leaflet",
            "_model_module_version": "^0.18",
            "_model_name": "LeafletMapStyleModel",
            "_view_count": null,
            "_view_module": "@jupyter-widgets/base",
            "_view_module_version": "1.2.0",
            "_view_name": "StyleView",
            "cursor": "grab"
          }
        },
        "6fb6d76aa3944f07bf8aa92ac9cbdd20": {
          "model_module": "jupyter-leaflet",
          "model_name": "LeafletMapStyleModel",
          "model_module_version": "^0.18",
          "state": {
            "_model_module": "jupyter-leaflet",
            "_model_module_version": "^0.18",
            "_model_name": "LeafletMapStyleModel",
            "_view_count": null,
            "_view_module": "@jupyter-widgets/base",
            "_view_module_version": "1.2.0",
            "_view_name": "StyleView",
            "cursor": "move"
          }
        },
        "309ba888638448518844b26036986cc6": {
          "model_module": "jupyter-leaflet",
          "model_name": "LeafletTileLayerModel",
          "model_module_version": "^0.18",
          "state": {
            "_model_module": "jupyter-leaflet",
            "_model_module_version": "^0.18",
            "_model_name": "LeafletTileLayerModel",
            "_view_count": null,
            "_view_module": "jupyter-leaflet",
            "_view_module_version": "^0.18",
            "_view_name": "LeafletTileLayerView",
            "attribution": "&copy; <a href=\"https://www.openstreetmap.org/copyright\">OpenStreetMap</a> contributors",
            "base": true,
            "bottom": true,
            "bounds": null,
            "detect_retina": false,
            "loading": false,
            "max_native_zoom": null,
            "max_zoom": 19,
            "min_native_zoom": null,
            "min_zoom": 1,
            "name": "OpenStreetMap.Mapnik",
            "no_wrap": false,
            "opacity": 1,
            "options": [
              "attribution",
              "bounds",
              "detect_retina",
              "max_native_zoom",
              "max_zoom",
              "min_native_zoom",
              "min_zoom",
              "no_wrap",
              "tile_size",
              "tms",
              "zoom_offset"
            ],
            "pane": "",
            "popup": null,
            "popup_max_height": null,
            "popup_max_width": 300,
            "popup_min_width": 50,
            "show_loading": false,
            "subitems": [],
            "tile_size": 256,
            "tms": false,
            "url": "https://tile.openstreetmap.org/{z}/{x}/{y}.png",
            "visible": true,
            "zoom_offset": 0
          }
        },
        "2d40761fbdab45b591942df7f2555441": {
          "model_module": "jupyter-leaflet",
          "model_name": "LeafletTileLayerModel",
          "model_module_version": "^0.18",
          "state": {
            "_model_module": "jupyter-leaflet",
            "_model_module_version": "^0.18",
            "_model_name": "LeafletTileLayerModel",
            "_view_count": null,
            "_view_module": "jupyter-leaflet",
            "_view_module_version": "^0.18",
            "_view_name": "LeafletTileLayerView",
            "attribution": "Google",
            "base": false,
            "bottom": true,
            "bounds": null,
            "detect_retina": false,
            "loading": false,
            "max_native_zoom": 100,
            "max_zoom": 100,
            "min_native_zoom": null,
            "min_zoom": 0,
            "name": "Google Satellite",
            "no_wrap": false,
            "opacity": 1,
            "options": [
              "attribution",
              "bounds",
              "detect_retina",
              "max_native_zoom",
              "max_zoom",
              "min_native_zoom",
              "min_zoom",
              "no_wrap",
              "tile_size",
              "tms",
              "zoom_offset"
            ],
            "pane": "",
            "popup": null,
            "popup_max_height": null,
            "popup_max_width": 300,
            "popup_min_width": 50,
            "show_loading": false,
            "subitems": [],
            "tile_size": 256,
            "tms": false,
            "url": "https://mt1.google.com/vt/lyrs=y&x={x}&y={y}&z={z}",
            "visible": true,
            "zoom_offset": 0
          }
        },
        "86847e7596624771b07e9b68fef535e0": {
          "model_module": "jupyter-leaflet",
          "model_name": "LeafletTileLayerModel",
          "model_module_version": "^0.18",
          "state": {
            "_model_module": "jupyter-leaflet",
            "_model_module_version": "^0.18",
            "_model_name": "LeafletTileLayerModel",
            "_view_count": null,
            "_view_module": "jupyter-leaflet",
            "_view_module_version": "^0.18",
            "_view_name": "LeafletTileLayerView",
            "attribution": "Google Earth Engine",
            "base": false,
            "bottom": true,
            "bounds": null,
            "detect_retina": false,
            "loading": false,
            "max_native_zoom": null,
            "max_zoom": 24,
            "min_native_zoom": null,
            "min_zoom": 0,
            "name": "January VH Image",
            "no_wrap": false,
            "opacity": 1,
            "options": [
              "attribution",
              "bounds",
              "detect_retina",
              "max_native_zoom",
              "max_zoom",
              "min_native_zoom",
              "min_zoom",
              "no_wrap",
              "tile_size",
              "tms",
              "zoom_offset"
            ],
            "pane": "",
            "popup": null,
            "popup_max_height": null,
            "popup_max_width": 300,
            "popup_min_width": 50,
            "show_loading": false,
            "subitems": [],
            "tile_size": 256,
            "tms": false,
            "url": "https://earthengine.googleapis.com/v1/projects/geographic-information-systems/maps/628748226713077db9d0c6b0a24ffcc8-9a61c52edad2523031c5c260571a2998/tiles/{z}/{x}/{y}",
            "visible": true,
            "zoom_offset": 0
          }
        },
        "1fa96e5ee3024ed2bba34c4844526742": {
          "model_module": "jupyter-leaflet",
          "model_name": "LeafletTileLayerModel",
          "model_module_version": "^0.18",
          "state": {
            "_model_module": "jupyter-leaflet",
            "_model_module_version": "^0.18",
            "_model_name": "LeafletTileLayerModel",
            "_view_count": null,
            "_view_module": "jupyter-leaflet",
            "_view_module_version": "^0.18",
            "_view_name": "LeafletTileLayerView",
            "attribution": "Google Earth Engine",
            "base": false,
            "bottom": true,
            "bounds": null,
            "detect_retina": false,
            "loading": false,
            "max_native_zoom": null,
            "max_zoom": 24,
            "min_native_zoom": null,
            "min_zoom": 0,
            "name": "Layer 2",
            "no_wrap": false,
            "opacity": 1,
            "options": [
              "attribution",
              "bounds",
              "detect_retina",
              "max_native_zoom",
              "max_zoom",
              "min_native_zoom",
              "min_zoom",
              "no_wrap",
              "tile_size",
              "tms",
              "zoom_offset"
            ],
            "pane": "",
            "popup": null,
            "popup_max_height": null,
            "popup_max_width": 300,
            "popup_min_width": 50,
            "show_loading": false,
            "subitems": [],
            "tile_size": 256,
            "tms": false,
            "url": "https://earthengine.googleapis.com/v1/projects/geographic-information-systems/maps/3ba35073bc72d2a92fac515711a42292-db4e26e50082e07aa1157f9845016b72/tiles/{z}/{x}/{y}",
            "visible": true,
            "zoom_offset": 0
          }
        },
        "96179a5fc73d43bdb1f1014319c3ad61": {
          "model_module": "@jupyter-widgets/base",
          "model_name": "LayoutModel",
          "model_module_version": "1.2.0",
          "state": {
            "_model_module": "@jupyter-widgets/base",
            "_model_module_version": "1.2.0",
            "_model_name": "LayoutModel",
            "_view_count": null,
            "_view_module": "@jupyter-widgets/base",
            "_view_module_version": "1.2.0",
            "_view_name": "LayoutView",
            "align_content": null,
            "align_items": null,
            "align_self": null,
            "border": null,
            "bottom": null,
            "display": null,
            "flex": null,
            "flex_flow": null,
            "grid_area": null,
            "grid_auto_columns": null,
            "grid_auto_flow": null,
            "grid_auto_rows": null,
            "grid_column": null,
            "grid_gap": null,
            "grid_row": null,
            "grid_template_areas": null,
            "grid_template_columns": null,
            "grid_template_rows": null,
            "height": "600px",
            "justify_content": null,
            "justify_items": null,
            "left": null,
            "margin": null,
            "max_height": null,
            "max_width": null,
            "min_height": null,
            "min_width": null,
            "object_fit": null,
            "object_position": null,
            "order": null,
            "overflow": null,
            "overflow_x": null,
            "overflow_y": null,
            "padding": null,
            "right": null,
            "top": null,
            "visibility": null,
            "width": null
          }
        },
        "94b0415e024e4d3492a6bafca2c371ac": {
          "model_module": "jupyter-leaflet",
          "model_name": "LeafletMapStyleModel",
          "model_module_version": "^0.18",
          "state": {
            "_model_module": "jupyter-leaflet",
            "_model_module_version": "^0.18",
            "_model_name": "LeafletMapStyleModel",
            "_view_count": null,
            "_view_module": "@jupyter-widgets/base",
            "_view_module_version": "1.2.0",
            "_view_name": "StyleView",
            "cursor": "grab"
          }
        },
        "e1350328566d449da02d53bb9fa599a3": {
          "model_module": "@jupyter-widgets/controls",
          "model_name": "HBoxModel",
          "model_module_version": "1.5.0",
          "state": {
            "_dom_classes": [
              "geemap-colab"
            ],
            "_model_module": "@jupyter-widgets/controls",
            "_model_module_version": "1.5.0",
            "_model_name": "HBoxModel",
            "_view_count": null,
            "_view_module": "@jupyter-widgets/controls",
            "_view_module_version": "1.5.0",
            "_view_name": "HBoxView",
            "box_style": "",
            "children": [
              "IPY_MODEL_fc20db17191f475b87198c211fa19078"
            ],
            "layout": "IPY_MODEL_f532aa71580f4a30be727b0086cfa469"
          }
        },
        "b31f41c4a75c43f196701ceb8845f408": {
          "model_module": "@jupyter-widgets/controls",
          "model_name": "VBoxModel",
          "model_module_version": "1.5.0",
          "state": {
            "_dom_classes": [
              "geemap-colab"
            ],
            "_model_module": "@jupyter-widgets/controls",
            "_model_module_version": "1.5.0",
            "_model_name": "VBoxModel",
            "_view_count": null,
            "_view_module": "@jupyter-widgets/controls",
            "_view_module_version": "1.5.0",
            "_view_name": "VBoxView",
            "box_style": "",
            "children": [
              "IPY_MODEL_47173ce0b2524788bf66dd52760c6bbc"
            ],
            "layout": "IPY_MODEL_f7175c8ece5c40469ffe6bf34c826ca7"
          }
        },
        "fc20db17191f475b87198c211fa19078": {
          "model_module": "@jupyter-widgets/controls",
          "model_name": "ToggleButtonModel",
          "model_module_version": "1.5.0",
          "state": {
            "_dom_classes": [],
            "_model_module": "@jupyter-widgets/controls",
            "_model_module_version": "1.5.0",
            "_model_name": "ToggleButtonModel",
            "_view_count": null,
            "_view_module": "@jupyter-widgets/controls",
            "_view_module_version": "1.5.0",
            "_view_name": "ToggleButtonView",
            "button_style": "",
            "description": "",
            "description_tooltip": null,
            "disabled": false,
            "icon": "globe",
            "layout": "IPY_MODEL_ffb9858520944526b9e285eb909e6caa",
            "style": "IPY_MODEL_abb477699ad04fde81238fb112dbb1ec",
            "tooltip": "Search location/data",
            "value": false
          }
        },
        "f532aa71580f4a30be727b0086cfa469": {
          "model_module": "@jupyter-widgets/base",
          "model_name": "LayoutModel",
          "model_module_version": "1.2.0",
          "state": {
            "_model_module": "@jupyter-widgets/base",
            "_model_module_version": "1.2.0",
            "_model_name": "LayoutModel",
            "_view_count": null,
            "_view_module": "@jupyter-widgets/base",
            "_view_module_version": "1.2.0",
            "_view_name": "LayoutView",
            "align_content": null,
            "align_items": null,
            "align_self": null,
            "border": null,
            "bottom": null,
            "display": null,
            "flex": null,
            "flex_flow": null,
            "grid_area": null,
            "grid_auto_columns": null,
            "grid_auto_flow": null,
            "grid_auto_rows": null,
            "grid_column": null,
            "grid_gap": null,
            "grid_row": null,
            "grid_template_areas": null,
            "grid_template_columns": null,
            "grid_template_rows": null,
            "height": null,
            "justify_content": null,
            "justify_items": null,
            "left": null,
            "margin": null,
            "max_height": null,
            "max_width": null,
            "min_height": null,
            "min_width": null,
            "object_fit": null,
            "object_position": null,
            "order": null,
            "overflow": null,
            "overflow_x": null,
            "overflow_y": null,
            "padding": null,
            "right": null,
            "top": null,
            "visibility": null,
            "width": null
          }
        },
        "47173ce0b2524788bf66dd52760c6bbc": {
          "model_module": "@jupyter-widgets/controls",
          "model_name": "ToggleButtonModel",
          "model_module_version": "1.5.0",
          "state": {
            "_dom_classes": [],
            "_model_module": "@jupyter-widgets/controls",
            "_model_module_version": "1.5.0",
            "_model_name": "ToggleButtonModel",
            "_view_count": null,
            "_view_module": "@jupyter-widgets/controls",
            "_view_module_version": "1.5.0",
            "_view_name": "ToggleButtonView",
            "button_style": "",
            "description": "",
            "description_tooltip": null,
            "disabled": false,
            "icon": "wrench",
            "layout": "IPY_MODEL_ee25b72732d6481a91d8c39551d027cc",
            "style": "IPY_MODEL_d3e0b609af114cadaf7a71e2d4e8ca45",
            "tooltip": "Toolbar",
            "value": false
          }
        },
        "f7175c8ece5c40469ffe6bf34c826ca7": {
          "model_module": "@jupyter-widgets/base",
          "model_name": "LayoutModel",
          "model_module_version": "1.2.0",
          "state": {
            "_model_module": "@jupyter-widgets/base",
            "_model_module_version": "1.2.0",
            "_model_name": "LayoutModel",
            "_view_count": null,
            "_view_module": "@jupyter-widgets/base",
            "_view_module_version": "1.2.0",
            "_view_name": "LayoutView",
            "align_content": null,
            "align_items": null,
            "align_self": null,
            "border": null,
            "bottom": null,
            "display": null,
            "flex": null,
            "flex_flow": null,
            "grid_area": null,
            "grid_auto_columns": null,
            "grid_auto_flow": null,
            "grid_auto_rows": null,
            "grid_column": null,
            "grid_gap": null,
            "grid_row": null,
            "grid_template_areas": null,
            "grid_template_columns": null,
            "grid_template_rows": null,
            "height": null,
            "justify_content": null,
            "justify_items": null,
            "left": null,
            "margin": null,
            "max_height": null,
            "max_width": null,
            "min_height": null,
            "min_width": null,
            "object_fit": null,
            "object_position": null,
            "order": null,
            "overflow": null,
            "overflow_x": null,
            "overflow_y": null,
            "padding": null,
            "right": null,
            "top": null,
            "visibility": null,
            "width": null
          }
        },
        "ffb9858520944526b9e285eb909e6caa": {
          "model_module": "@jupyter-widgets/base",
          "model_name": "LayoutModel",
          "model_module_version": "1.2.0",
          "state": {
            "_model_module": "@jupyter-widgets/base",
            "_model_module_version": "1.2.0",
            "_model_name": "LayoutModel",
            "_view_count": null,
            "_view_module": "@jupyter-widgets/base",
            "_view_module_version": "1.2.0",
            "_view_name": "LayoutView",
            "align_content": null,
            "align_items": null,
            "align_self": null,
            "border": null,
            "bottom": null,
            "display": null,
            "flex": null,
            "flex_flow": null,
            "grid_area": null,
            "grid_auto_columns": null,
            "grid_auto_flow": null,
            "grid_auto_rows": null,
            "grid_column": null,
            "grid_gap": null,
            "grid_row": null,
            "grid_template_areas": null,
            "grid_template_columns": null,
            "grid_template_rows": null,
            "height": "28px",
            "justify_content": null,
            "justify_items": null,
            "left": null,
            "margin": null,
            "max_height": null,
            "max_width": null,
            "min_height": null,
            "min_width": null,
            "object_fit": null,
            "object_position": null,
            "order": null,
            "overflow": null,
            "overflow_x": null,
            "overflow_y": null,
            "padding": "0px 0px 0px 4px",
            "right": null,
            "top": null,
            "visibility": null,
            "width": "28px"
          }
        },
        "abb477699ad04fde81238fb112dbb1ec": {
          "model_module": "@jupyter-widgets/controls",
          "model_name": "DescriptionStyleModel",
          "model_module_version": "1.5.0",
          "state": {
            "_model_module": "@jupyter-widgets/controls",
            "_model_module_version": "1.5.0",
            "_model_name": "DescriptionStyleModel",
            "_view_count": null,
            "_view_module": "@jupyter-widgets/base",
            "_view_module_version": "1.2.0",
            "_view_name": "StyleView",
            "description_width": ""
          }
        },
        "ee25b72732d6481a91d8c39551d027cc": {
          "model_module": "@jupyter-widgets/base",
          "model_name": "LayoutModel",
          "model_module_version": "1.2.0",
          "state": {
            "_model_module": "@jupyter-widgets/base",
            "_model_module_version": "1.2.0",
            "_model_name": "LayoutModel",
            "_view_count": null,
            "_view_module": "@jupyter-widgets/base",
            "_view_module_version": "1.2.0",
            "_view_name": "LayoutView",
            "align_content": null,
            "align_items": null,
            "align_self": null,
            "border": null,
            "bottom": null,
            "display": null,
            "flex": null,
            "flex_flow": null,
            "grid_area": null,
            "grid_auto_columns": null,
            "grid_auto_flow": null,
            "grid_auto_rows": null,
            "grid_column": null,
            "grid_gap": null,
            "grid_row": null,
            "grid_template_areas": null,
            "grid_template_columns": null,
            "grid_template_rows": null,
            "height": "28px",
            "justify_content": null,
            "justify_items": null,
            "left": null,
            "margin": null,
            "max_height": null,
            "max_width": null,
            "min_height": null,
            "min_width": null,
            "object_fit": null,
            "object_position": null,
            "order": null,
            "overflow": null,
            "overflow_x": null,
            "overflow_y": null,
            "padding": "0px 0px 0px 4px",
            "right": null,
            "top": null,
            "visibility": null,
            "width": "28px"
          }
        },
        "d3e0b609af114cadaf7a71e2d4e8ca45": {
          "model_module": "@jupyter-widgets/controls",
          "model_name": "DescriptionStyleModel",
          "model_module_version": "1.5.0",
          "state": {
            "_model_module": "@jupyter-widgets/controls",
            "_model_module_version": "1.5.0",
            "_model_name": "DescriptionStyleModel",
            "_view_count": null,
            "_view_module": "@jupyter-widgets/base",
            "_view_module_version": "1.2.0",
            "_view_name": "StyleView",
            "description_width": ""
          }
        }
      }
    }
  },
  "cells": [
    {
      "cell_type": "markdown",
      "metadata": {
        "id": "view-in-github",
        "colab_type": "text"
      },
      "source": [
        "<a href=\"https://colab.research.google.com/github/llindish/Complete-Python-3-Bootcamp/blob/master/WTD_model/GEE_code/Forsinard_S1_mosaics.ipynb\" target=\"_parent\"><img src=\"https://colab.research.google.com/assets/colab-badge.svg\" alt=\"Open In Colab\"/></a>"
      ]
    },
    {
      "cell_type": "code",
      "execution_count": 1,
      "metadata": {
        "id": "7BPB0tEPTNqh"
      },
      "outputs": [],
      "source": [
        "import ee\n",
        "import geemap"
      ]
    },
    {
      "cell_type": "code",
      "source": [
        "#Authentification needed only once, first time you run the colab code\n",
        "from google.colab import auth\n",
        "auth.authenticate_user()"
      ],
      "metadata": {
        "colab": {
          "base_uri": "https://localhost:8080/",
          "height": 17
        },
        "id": "grTnYZSgorKH",
        "outputId": "909015cf-7749-4b15-e0aa-588c7412bd89"
      },
      "execution_count": 2,
      "outputs": [
        {
          "output_type": "display_data",
          "data": {
            "text/plain": [
              "<IPython.core.display.HTML object>"
            ],
            "text/html": [
              "\n",
              "            <style>\n",
              "                .geemap-dark {\n",
              "                    --jp-widgets-color: white;\n",
              "                    --jp-widgets-label-color: white;\n",
              "                    --jp-ui-font-color1: white;\n",
              "                    --jp-layout-color2: #454545;\n",
              "                    background-color: #383838;\n",
              "                }\n",
              "\n",
              "                .geemap-dark .jupyter-button {\n",
              "                    --jp-layout-color3: #383838;\n",
              "                }\n",
              "\n",
              "                .geemap-colab {\n",
              "                    background-color: var(--colab-primary-surface-color, white);\n",
              "                }\n",
              "\n",
              "                .geemap-colab .jupyter-button {\n",
              "                    --jp-layout-color3: var(--colab-primary-surface-color, white);\n",
              "                }\n",
              "            </style>\n",
              "            "
            ]
          },
          "metadata": {}
        }
      ]
    },
    {
      "cell_type": "code",
      "source": [
        "cloud_project = 'geographic-information-systems'\n",
        "ee.Initialize(project=cloud_project)\n",
        "geemap.ee_initialize(project=cloud_project)"
      ],
      "metadata": {
        "colab": {
          "base_uri": "https://localhost:8080/",
          "height": 17
        },
        "id": "bt1piPoATaXB",
        "outputId": "61d6fbf0-edd8-46a5-d8af-b6b451d79724"
      },
      "execution_count": 3,
      "outputs": [
        {
          "output_type": "display_data",
          "data": {
            "text/plain": [
              "<IPython.core.display.HTML object>"
            ],
            "text/html": [
              "\n",
              "            <style>\n",
              "                .geemap-dark {\n",
              "                    --jp-widgets-color: white;\n",
              "                    --jp-widgets-label-color: white;\n",
              "                    --jp-ui-font-color1: white;\n",
              "                    --jp-layout-color2: #454545;\n",
              "                    background-color: #383838;\n",
              "                }\n",
              "\n",
              "                .geemap-dark .jupyter-button {\n",
              "                    --jp-layout-color3: #383838;\n",
              "                }\n",
              "\n",
              "                .geemap-colab {\n",
              "                    background-color: var(--colab-primary-surface-color, white);\n",
              "                }\n",
              "\n",
              "                .geemap-colab .jupyter-button {\n",
              "                    --jp-layout-color3: var(--colab-primary-surface-color, white);\n",
              "                }\n",
              "            </style>\n",
              "            "
            ]
          },
          "metadata": {}
        }
      ]
    },
    {
      "cell_type": "code",
      "source": [
        "#monthly Senitnel-1 iamgery for Forsinard\n",
        "\n",
        "###########################\n",
        "#ADJUST FOLLOWING 4 variables\n",
        "\n",
        "# !Specify the asset (.shp file of the loggers stored on GEE as asset)\n",
        "asset_id = 'users/llindish/Forsinard_all_30m'\n",
        "\n",
        "#burst shapefile\n",
        "burst = 'projects/ee-llindish/assets/030_062635_IW2_Forsinard_burst_frame'\n",
        "\n",
        "# !Specify the year.\n",
        "year = 2018\n",
        "\n",
        "# !Specify the name of your bucket(where would you like to export) and the specific location in the bucket\n",
        "bucket = 'soilmoisture-jbdsag'\n",
        "path = 'GEE_exports_LT/S1/Forsinard/Brit_grid_27700/2018'\n",
        "\n",
        "# !Specify the boundary box (the image area is based on these coordinates!)\n",
        "coords = [[-4.079731012164764,58.271659286472214],\n",
        "          [-3.6210518129460145,58.271659286472214],\n",
        "          [-3.6210518129460145,58.46037179423765],\n",
        "          [-4.079731012164764,58.46037179423765],\n",
        "          [-4.079731012164764,58.271659286472214]]\n",
        "\n",
        "################################################\n",
        "\n",
        "# Change assest into a feature collection\n",
        "geometry = ee.FeatureCollection(asset_id)\n",
        "\n",
        "# Create the polygon\n",
        "aoi = ee.Geometry.Polygon(coords)\n",
        "\n",
        "#specify orbit direction and path\n",
        "path_dir = 'ASCENDING' #or 'DESCENDING'\n",
        "path_orb = 30 #30 for Forsinar\n",
        "\n",
        "# Load Sentinel-1 ImageCollection.\n",
        "sentinel1 = ee.ImageCollection('COPERNICUS/S1_GRD') \\\n",
        "    .filterBounds(aoi) \\\n",
        "    .filter(ee.Filter.listContains('transmitterReceiverPolarisation', 'VV')) \\\n",
        "    .filter(ee.Filter.listContains('transmitterReceiverPolarisation', 'VH')) \\\n",
        "    .filter(ee.Filter.eq('instrumentMode', 'IW')) \\\n",
        "    .filter(ee.Filter.calendarRange(year, year, 'year')) \\\n",
        "    .filter(ee.Filter.eq('orbitProperties_pass', path_dir)) \\\n",
        "    .filter(ee.Filter.eq('relativeOrbitNumber_start', path_orb ))\n",
        "\n",
        "#check number of images\n",
        "print(\"Number of images in the collection:\", sentinel1.size().getInfo())\n",
        "\n",
        "# Add an additional filter to include only images that fully cover the burst shapefile\n",
        "sentinel1 = sentinel1.filterBounds(ee.FeatureCollection(burst))\n",
        "print(\"Number of images in the filtered collection:\", sentinel1.size().getInfo())\n",
        "\n",
        "\n",
        "# Function to calculate monthly mean/median composite.\n",
        "#TRY median/min or max??\n",
        "\n",
        "def monthlyComposite(month):\n",
        "    start_date = ee.Date.fromYMD(year, month, 1)\n",
        "    end_date = start_date.advance(1, 'month')\n",
        "    monthly_images = sentinel1.filterDate(start_date, end_date)\n",
        "    mean_image = monthly_images.mean()\n",
        "    return mean_image.rename(['VV', 'VH', 'angle']).toFloat()\n",
        "\n",
        "# Generate monthly composites for a year.\n",
        "months = ee.List.sequence(1, 12)\n",
        "monthlyComposites = ee.ImageCollection.fromImages(months.map(monthlyComposite))\n",
        "\n",
        "def filter_contains(img):\n",
        "    bounds = img.geometry()\n",
        "    return ee.Algorithms.If(bounds.contains(aoi), img)\n",
        "\n",
        "filtered_collection = monthlyComposites.map(filter_contains)\n",
        "filtered_collection = filtered_collection.filter(ee.Filter.neq('system:index', None))\n",
        "\n",
        "def export_image_collection_to_cloud_storage(img_coll, bucket, folder):\n",
        "    \"\"\"Exports an image collection to a specific folder in a Google Cloud Storage bucket.\"\"\"\n",
        "    def export_image(img):\n",
        "        \"\"\"Inner function to export a single image.\"\"\"\n",
        "        # Get the image's date and format it as a string in the format 'YYYY-MM'.\n",
        "        date = year\n",
        "        # Construct the file name prefix.\n",
        "        name = int(img.get('system:index').getInfo())\n",
        "        name = name + 1\n",
        "        #SPECIFY THE FILE NAME\n",
        "        file_name_prefix = f\"{folder}/Forsinard_S1_monthly_{date}_{name}\"\n",
        "        print(f\"Exporting {file_name_prefix}\")\n",
        "        export_options = {\n",
        "            'image': img,\n",
        "            'bucket': bucket,\n",
        "            'fileNamePrefix': file_name_prefix,\n",
        "            'region': aoi,\n",
        "            'scale': 10,\n",
        "            'maxPixels': 1e10,\n",
        "            'crs': 'EPSG:27700'\n",
        "        }\n",
        "        task = ee.batch.Export.image.toCloudStorage(**export_options)\n",
        "        task.start()\n",
        "\n",
        "    img_coll_list = img_coll.toList(img_coll.size())\n",
        "    for i in range(img_coll_list.size().getInfo()):\n",
        "        img = ee.Image(img_coll_list.get(i))\n",
        "        export_image(img)\n",
        "\n",
        "# Initialize ImageCollection\n",
        "image_collection = filtered_collection\n",
        "# Specify bucket name\n",
        "bucket_name = bucket\n",
        "# Specify folder path\n",
        "folder_path = path\n",
        "\n",
        "# Call the function\n",
        "export_image_collection_to_cloud_storage(image_collection, bucket_name, folder_path)\n"
      ],
      "metadata": {
        "colab": {
          "base_uri": "https://localhost:8080/",
          "height": 275
        },
        "id": "bs3IIeUoZ8zb",
        "outputId": "16821d1c-8d44-4667-8d39-8f95d95f3c52"
      },
      "execution_count": 4,
      "outputs": [
        {
          "output_type": "display_data",
          "data": {
            "text/plain": [
              "<IPython.core.display.HTML object>"
            ],
            "text/html": [
              "\n",
              "            <style>\n",
              "                .geemap-dark {\n",
              "                    --jp-widgets-color: white;\n",
              "                    --jp-widgets-label-color: white;\n",
              "                    --jp-ui-font-color1: white;\n",
              "                    --jp-layout-color2: #454545;\n",
              "                    background-color: #383838;\n",
              "                }\n",
              "\n",
              "                .geemap-dark .jupyter-button {\n",
              "                    --jp-layout-color3: #383838;\n",
              "                }\n",
              "\n",
              "                .geemap-colab {\n",
              "                    background-color: var(--colab-primary-surface-color, white);\n",
              "                }\n",
              "\n",
              "                .geemap-colab .jupyter-button {\n",
              "                    --jp-layout-color3: var(--colab-primary-surface-color, white);\n",
              "                }\n",
              "            </style>\n",
              "            "
            ]
          },
          "metadata": {}
        },
        {
          "output_type": "stream",
          "name": "stdout",
          "text": [
            "Number of images in the collection: 119\n",
            "Number of images in the filtered collection: 119\n",
            "Exporting GEE_exports_LT/S1/Forsinard/Brit_grid_27700/2018/Forsinard_S1_monthly_2018_1\n",
            "Exporting GEE_exports_LT/S1/Forsinard/Brit_grid_27700/2018/Forsinard_S1_monthly_2018_2\n",
            "Exporting GEE_exports_LT/S1/Forsinard/Brit_grid_27700/2018/Forsinard_S1_monthly_2018_3\n",
            "Exporting GEE_exports_LT/S1/Forsinard/Brit_grid_27700/2018/Forsinard_S1_monthly_2018_4\n",
            "Exporting GEE_exports_LT/S1/Forsinard/Brit_grid_27700/2018/Forsinard_S1_monthly_2018_5\n",
            "Exporting GEE_exports_LT/S1/Forsinard/Brit_grid_27700/2018/Forsinard_S1_monthly_2018_6\n",
            "Exporting GEE_exports_LT/S1/Forsinard/Brit_grid_27700/2018/Forsinard_S1_monthly_2018_7\n",
            "Exporting GEE_exports_LT/S1/Forsinard/Brit_grid_27700/2018/Forsinard_S1_monthly_2018_8\n",
            "Exporting GEE_exports_LT/S1/Forsinard/Brit_grid_27700/2018/Forsinard_S1_monthly_2018_9\n",
            "Exporting GEE_exports_LT/S1/Forsinard/Brit_grid_27700/2018/Forsinard_S1_monthly_2018_10\n",
            "Exporting GEE_exports_LT/S1/Forsinard/Brit_grid_27700/2018/Forsinard_S1_monthly_2018_11\n",
            "Exporting GEE_exports_LT/S1/Forsinard/Brit_grid_27700/2018/Forsinard_S1_monthly_2018_12\n"
          ]
        }
      ]
    },
    {
      "cell_type": "code",
      "source": [
        "#Visualisatioz on GEEmap\n",
        "\n",
        "map = geemap.Map()\n",
        "url = \"https://mt1.google.com/vt/lyrs=y&x={x}&y={y}&z={z}\"\n",
        "map.add_tile_layer(url, name=\"Google Satellite\", attribution=\"Google\")\n",
        "\n",
        "# Centre the map view over the ROI\n",
        "map.centerObject(geometry, 13)\n",
        "\n",
        "# Select the first image from the collection.\n",
        "firstImage = ee.Image(monthlyComposites.first())\n",
        "\n",
        "# Select the 'VH' band.\n",
        "vhBand = firstImage.select('VH').clip(aoi)\n",
        "\n",
        "# Select the 'angle' band.\n",
        "angle= firstImage.select('angle').clip(aoi)\n",
        "\n",
        "# Add the 'VH' band of the first image to the map.\n",
        "map.addLayer(vhBand, {'min': -25, 'max': 0}, 'January VH Image')\n",
        "\n",
        "# Add the 'angle' band of the first image to the map.\n",
        "#map.addLayer(angle, {'min': 40, 'max': 42}, 'angle')\n",
        "\n",
        "map.addLayer(geometry)\n",
        "map"
      ],
      "metadata": {
        "colab": {
          "base_uri": "https://localhost:8080/",
          "height": 621,
          "referenced_widgets": [
            "1c5af9ef53134e6da48965853a948368",
            "7b7913c8d53d490095d1683439192924",
            "f9852f379f6744a5a4b2c73124489671",
            "e98fa4dfd5a44c5fbdd010c161f74c67",
            "fc1d9d9c3a5a472590e1048b8e759e00",
            "e90ec94961e348ecab89b5cc71351116",
            "fd7fb02b44b34543b918baab9ed865f5",
            "6157fbb29ae94d24bf119ceeca322442",
            "2a011bb19fe148dcbd08853955d7e580",
            "08ee0fa8344d48ce9f89c80831710373",
            "6fb6d76aa3944f07bf8aa92ac9cbdd20",
            "309ba888638448518844b26036986cc6",
            "2d40761fbdab45b591942df7f2555441",
            "86847e7596624771b07e9b68fef535e0",
            "1fa96e5ee3024ed2bba34c4844526742",
            "96179a5fc73d43bdb1f1014319c3ad61",
            "94b0415e024e4d3492a6bafca2c371ac",
            "e1350328566d449da02d53bb9fa599a3",
            "b31f41c4a75c43f196701ceb8845f408",
            "fc20db17191f475b87198c211fa19078",
            "f532aa71580f4a30be727b0086cfa469",
            "47173ce0b2524788bf66dd52760c6bbc",
            "f7175c8ece5c40469ffe6bf34c826ca7",
            "ffb9858520944526b9e285eb909e6caa",
            "abb477699ad04fde81238fb112dbb1ec",
            "ee25b72732d6481a91d8c39551d027cc",
            "d3e0b609af114cadaf7a71e2d4e8ca45"
          ]
        },
        "id": "iqQrTFHpphwv",
        "outputId": "dbf5323c-68a7-4e88-c663-3dd419339ac5"
      },
      "execution_count": null,
      "outputs": [
        {
          "output_type": "display_data",
          "data": {
            "text/plain": [
              "<IPython.core.display.HTML object>"
            ],
            "text/html": [
              "\n",
              "            <style>\n",
              "                .geemap-dark {\n",
              "                    --jp-widgets-color: white;\n",
              "                    --jp-widgets-label-color: white;\n",
              "                    --jp-ui-font-color1: white;\n",
              "                    --jp-layout-color2: #454545;\n",
              "                    background-color: #383838;\n",
              "                }\n",
              "\n",
              "                .geemap-dark .jupyter-button {\n",
              "                    --jp-layout-color3: #383838;\n",
              "                }\n",
              "\n",
              "                .geemap-colab {\n",
              "                    background-color: var(--colab-primary-surface-color, white);\n",
              "                }\n",
              "\n",
              "                .geemap-colab .jupyter-button {\n",
              "                    --jp-layout-color3: var(--colab-primary-surface-color, white);\n",
              "                }\n",
              "            </style>\n",
              "            "
            ]
          },
          "metadata": {}
        },
        {
          "output_type": "display_data",
          "data": {
            "text/plain": [
              "Map(center=[58.394536127699844, -3.8406067140690543], controls=(WidgetControl(options=['position', 'transparen…"
            ],
            "application/vnd.jupyter.widget-view+json": {
              "version_major": 2,
              "version_minor": 0,
              "model_id": "1c5af9ef53134e6da48965853a948368"
            }
          },
          "metadata": {
            "application/vnd.jupyter.widget-view+json": {
              "colab": {
                "custom_widget_manager": {
                  "url": "https://ssl.gstatic.com/colaboratory-static/widgets/colab-cdn-widget-manager/2b70e893a8ba7c0f/manager.min.js"
                }
              }
            }
          }
        }
      ]
    },
    {
      "cell_type": "code",
      "source": [],
      "metadata": {
        "colab": {
          "base_uri": "https://localhost:8080/",
          "height": 17
        },
        "id": "wT_g4EHKcrcT",
        "outputId": "5870522c-80ff-4e07-d5a0-d7db0888495a"
      },
      "execution_count": null,
      "outputs": [
        {
          "output_type": "display_data",
          "data": {
            "text/plain": [
              "<IPython.core.display.HTML object>"
            ],
            "text/html": [
              "\n",
              "            <style>\n",
              "                .geemap-dark {\n",
              "                    --jp-widgets-color: white;\n",
              "                    --jp-widgets-label-color: white;\n",
              "                    --jp-ui-font-color1: white;\n",
              "                    --jp-layout-color2: #454545;\n",
              "                    background-color: #383838;\n",
              "                }\n",
              "                    \n",
              "                .geemap-dark .jupyter-button {\n",
              "                    --jp-layout-color3: #383838;\n",
              "                }\n",
              "                \n",
              "                .geemap-colab {\n",
              "                    background-color: var(--colab-primary-surface-color, white);\n",
              "                }\n",
              "                    \n",
              "                .geemap-colab .jupyter-button {\n",
              "                    --jp-layout-color3: var(--colab-primary-surface-color, white);\n",
              "                }\n",
              "            </style>\n",
              "            "
            ]
          },
          "metadata": {}
        }
      ]
    }
  ]
}