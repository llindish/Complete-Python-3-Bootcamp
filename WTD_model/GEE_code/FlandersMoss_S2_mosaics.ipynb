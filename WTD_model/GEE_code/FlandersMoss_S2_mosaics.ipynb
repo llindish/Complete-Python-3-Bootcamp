{
  "nbformat": 4,
  "nbformat_minor": 0,
  "metadata": {
    "colab": {
      "provenance": [],
      "authorship_tag": "ABX9TyOouoFr6kjlYa3bHWloffPf",
      "include_colab_link": true
    },
    "kernelspec": {
      "name": "python3",
      "display_name": "Python 3"
    },
    "language_info": {
      "name": "python"
    },
    "widgets": {
      "application/vnd.jupyter.widget-state+json": {
        "c8b53bb15b7849c5a613eb7b0668f9b7": {
          "model_module": "jupyter-leaflet",
          "model_name": "LeafletMapModel",
          "model_module_version": "^0.18",
          "state": {
            "_dom_classes": [],
            "_model_module": "jupyter-leaflet",
            "_model_module_version": "^0.18",
            "_model_name": "LeafletMapModel",
            "_view_count": null,
            "_view_module": "jupyter-leaflet",
            "_view_module_version": "^0.18",
            "_view_name": "LeafletMapView",
            "bottom": 651651,
            "bounce_at_zoom_limits": true,
            "box_zoom": true,
            "center": [
              56.1617055805547,
              -4.135851888163183
            ],
            "close_popup_on_click": true,
            "controls": [
              "IPY_MODEL_6e5d486ee6b64af8bf9e0fad194854f3",
              "IPY_MODEL_8fe204de4d974f6eb602e8eb1103e736",
              "IPY_MODEL_2e9584d7ab154ee8a124e26e480d585f",
              "IPY_MODEL_4ff7c6554a4c44ecb4883c8cf7f9a4b5",
              "IPY_MODEL_eb4377b227a04cbabcdcdbdeb77f1c91",
              "IPY_MODEL_da79a6593c3943e4869e053ec01d0db7",
              "IPY_MODEL_f268832936f64a619ec2d144def10074",
              "IPY_MODEL_11479d1fceb8482b84021a3b51d3367d"
            ],
            "crs": {
              "name": "EPSG3857",
              "custom": false
            },
            "default_style": "IPY_MODEL_060a9ab79a8948cbbad340f1c8a411e2",
            "double_click_zoom": true,
            "dragging": true,
            "dragging_style": "IPY_MODEL_428ac9e70ef64db9a77955d0bf7cb48f",
            "east": -3.9636611938476567,
            "fullscreen": false,
            "inertia": true,
            "inertia_deceleration": 3000,
            "inertia_max_speed": 1500,
            "interpolation": "bilinear",
            "keyboard": true,
            "keyboard_pan_offset": 80,
            "keyboard_zoom_offset": 1,
            "layers": [
              "IPY_MODEL_d782b63d3d4c4b1cb9ca07bcf9b7a0fe",
              "IPY_MODEL_2951aa8cea554075bc48b988f2a8b867",
              "IPY_MODEL_ac9857b57d114514b7ad1ec78439ec78",
              "IPY_MODEL_93e7ec36386a4744af4280b8daade157"
            ],
            "layout": "IPY_MODEL_ed5f08a161744206b072829081e74f9f",
            "left": 1023479,
            "max_zoom": 24,
            "min_zoom": null,
            "modisdate": "2024-02-27",
            "north": 56.19037380434316,
            "options": [
              "bounce_at_zoom_limits",
              "box_zoom",
              "center",
              "close_popup_on_click",
              "double_click_zoom",
              "dragging",
              "fullscreen",
              "inertia",
              "inertia_deceleration",
              "inertia_max_speed",
              "interpolation",
              "keyboard",
              "keyboard_pan_offset",
              "keyboard_zoom_offset",
              "max_zoom",
              "min_zoom",
              "prefer_canvas",
              "scroll_wheel_zoom",
              "tap",
              "tap_tolerance",
              "touch_zoom",
              "world_copy_jump",
              "zoom",
              "zoom_animation_threshold",
              "zoom_delta",
              "zoom_snap"
            ],
            "panes": {},
            "prefer_canvas": false,
            "right": 1025486,
            "scroll_wheel_zoom": true,
            "south": 56.133019929952354,
            "style": "IPY_MODEL_060a9ab79a8948cbbad340f1c8a411e2",
            "tap": true,
            "tap_tolerance": 15,
            "top": 651051,
            "touch_zoom": true,
            "west": -4.308185577392579,
            "window_url": "https://b4kfsjvo2ww-496ff2e9c6d22116-0-colab.googleusercontent.com/outputframe.html?vrz=colab_20240223-060126_RC00_609690844",
            "world_copy_jump": false,
            "zoom": 13,
            "zoom_animation_threshold": 4,
            "zoom_delta": 1,
            "zoom_snap": 1
          }
        },
        "6e5d486ee6b64af8bf9e0fad194854f3": {
          "model_module": "jupyter-leaflet",
          "model_name": "LeafletWidgetControlModel",
          "model_module_version": "^0.18",
          "state": {
            "_model_module": "jupyter-leaflet",
            "_model_module_version": "^0.18",
            "_model_name": "LeafletWidgetControlModel",
            "_view_count": null,
            "_view_module": "jupyter-leaflet",
            "_view_module_version": "^0.18",
            "_view_name": "LeafletWidgetControlView",
            "max_height": null,
            "max_width": null,
            "min_height": null,
            "min_width": null,
            "options": [
              "position",
              "transparent_bg"
            ],
            "position": "topleft",
            "transparent_bg": false,
            "widget": "IPY_MODEL_573629b337534a10b054ea263225a4b4"
          }
        },
        "8fe204de4d974f6eb602e8eb1103e736": {
          "model_module": "jupyter-leaflet",
          "model_name": "LeafletZoomControlModel",
          "model_module_version": "^0.18",
          "state": {
            "_model_module": "jupyter-leaflet",
            "_model_module_version": "^0.18",
            "_model_name": "LeafletZoomControlModel",
            "_view_count": null,
            "_view_module": "jupyter-leaflet",
            "_view_module_version": "^0.18",
            "_view_name": "LeafletZoomControlView",
            "options": [
              "position",
              "zoom_in_text",
              "zoom_in_title",
              "zoom_out_text",
              "zoom_out_title"
            ],
            "position": "topleft",
            "zoom_in_text": "+",
            "zoom_in_title": "Zoom in",
            "zoom_out_text": "-",
            "zoom_out_title": "Zoom out"
          }
        },
        "2e9584d7ab154ee8a124e26e480d585f": {
          "model_module": "jupyter-leaflet",
          "model_name": "LeafletFullScreenControlModel",
          "model_module_version": "^0.18",
          "state": {
            "_model_module": "jupyter-leaflet",
            "_model_module_version": "^0.18",
            "_model_name": "LeafletFullScreenControlModel",
            "_view_count": null,
            "_view_module": "jupyter-leaflet",
            "_view_module_version": "^0.18",
            "_view_name": "LeafletFullScreenControlView",
            "options": [
              "position"
            ],
            "position": "topleft"
          }
        },
        "4ff7c6554a4c44ecb4883c8cf7f9a4b5": {
          "model_module": "jupyter-leaflet",
          "model_name": "LeafletDrawControlModel",
          "model_module_version": "^0.18",
          "state": {
            "_model_module": "jupyter-leaflet",
            "_model_module_version": "^0.18",
            "_model_name": "LeafletDrawControlModel",
            "_view_count": null,
            "_view_module": "jupyter-leaflet",
            "_view_module_version": "^0.18",
            "_view_name": "LeafletDrawControlView",
            "circle": {},
            "circlemarker": {},
            "data": [],
            "edit": true,
            "marker": {
              "shapeOptions": {
                "color": "#3388ff"
              }
            },
            "options": [
              "position"
            ],
            "polygon": {
              "shapeOptions": {}
            },
            "polyline": {
              "shapeOptions": {}
            },
            "position": "topleft",
            "rectangle": {
              "shapeOptions": {
                "color": "#3388ff"
              }
            },
            "remove": true
          }
        },
        "eb4377b227a04cbabcdcdbdeb77f1c91": {
          "model_module": "jupyter-leaflet",
          "model_name": "LeafletScaleControlModel",
          "model_module_version": "^0.18",
          "state": {
            "_model_module": "jupyter-leaflet",
            "_model_module_version": "^0.18",
            "_model_name": "LeafletScaleControlModel",
            "_view_count": null,
            "_view_module": "jupyter-leaflet",
            "_view_module_version": "^0.18",
            "_view_name": "LeafletScaleControlView",
            "imperial": true,
            "max_width": 100,
            "metric": true,
            "options": [
              "imperial",
              "max_width",
              "metric",
              "position",
              "update_when_idle"
            ],
            "position": "bottomleft",
            "update_when_idle": false
          }
        },
        "da79a6593c3943e4869e053ec01d0db7": {
          "model_module": "jupyter-leaflet",
          "model_name": "LeafletMeasureControlModel",
          "model_module_version": "^0.18",
          "state": {
            "_custom_units": {},
            "_model_module": "jupyter-leaflet",
            "_model_module_version": "^0.18",
            "_model_name": "LeafletMeasureControlModel",
            "_view_count": null,
            "_view_module": "jupyter-leaflet",
            "_view_module_version": "^0.18",
            "_view_name": "LeafletMeasureControlView",
            "active_color": "orange",
            "capture_z_index": 10000,
            "completed_color": "#C8F2BE",
            "options": [
              "active_color",
              "capture_z_index",
              "completed_color",
              "popup_options",
              "position",
              "primary_area_unit",
              "primary_length_unit",
              "secondary_area_unit",
              "secondary_length_unit"
            ],
            "popup_options": {
              "className": "leaflet-measure-resultpopup",
              "autoPanPadding": [
                10,
                10
              ]
            },
            "position": "bottomleft",
            "primary_area_unit": "acres",
            "primary_length_unit": "kilometers",
            "secondary_area_unit": null,
            "secondary_length_unit": null
          }
        },
        "f268832936f64a619ec2d144def10074": {
          "model_module": "jupyter-leaflet",
          "model_name": "LeafletWidgetControlModel",
          "model_module_version": "^0.18",
          "state": {
            "_model_module": "jupyter-leaflet",
            "_model_module_version": "^0.18",
            "_model_name": "LeafletWidgetControlModel",
            "_view_count": null,
            "_view_module": "jupyter-leaflet",
            "_view_module_version": "^0.18",
            "_view_name": "LeafletWidgetControlView",
            "max_height": null,
            "max_width": null,
            "min_height": null,
            "min_width": null,
            "options": [
              "position",
              "transparent_bg"
            ],
            "position": "topright",
            "transparent_bg": false,
            "widget": "IPY_MODEL_2ec2c94bee46402ba4115aa848cba78e"
          }
        },
        "11479d1fceb8482b84021a3b51d3367d": {
          "model_module": "jupyter-leaflet",
          "model_name": "LeafletAttributionControlModel",
          "model_module_version": "^0.18",
          "state": {
            "_model_module": "jupyter-leaflet",
            "_model_module_version": "^0.18",
            "_model_name": "LeafletAttributionControlModel",
            "_view_count": null,
            "_view_module": "jupyter-leaflet",
            "_view_module_version": "^0.18",
            "_view_name": "LeafletAttributionControlView",
            "options": [
              "position",
              "prefix"
            ],
            "position": "bottomright",
            "prefix": "ipyleaflet"
          }
        },
        "060a9ab79a8948cbbad340f1c8a411e2": {
          "model_module": "jupyter-leaflet",
          "model_name": "LeafletMapStyleModel",
          "model_module_version": "^0.18",
          "state": {
            "_model_module": "jupyter-leaflet",
            "_model_module_version": "^0.18",
            "_model_name": "LeafletMapStyleModel",
            "_view_count": null,
            "_view_module": "@jupyter-widgets/base",
            "_view_module_version": "1.2.0",
            "_view_name": "StyleView",
            "cursor": "grab"
          }
        },
        "428ac9e70ef64db9a77955d0bf7cb48f": {
          "model_module": "jupyter-leaflet",
          "model_name": "LeafletMapStyleModel",
          "model_module_version": "^0.18",
          "state": {
            "_model_module": "jupyter-leaflet",
            "_model_module_version": "^0.18",
            "_model_name": "LeafletMapStyleModel",
            "_view_count": null,
            "_view_module": "@jupyter-widgets/base",
            "_view_module_version": "1.2.0",
            "_view_name": "StyleView",
            "cursor": "move"
          }
        },
        "d782b63d3d4c4b1cb9ca07bcf9b7a0fe": {
          "model_module": "jupyter-leaflet",
          "model_name": "LeafletTileLayerModel",
          "model_module_version": "^0.18",
          "state": {
            "_model_module": "jupyter-leaflet",
            "_model_module_version": "^0.18",
            "_model_name": "LeafletTileLayerModel",
            "_view_count": null,
            "_view_module": "jupyter-leaflet",
            "_view_module_version": "^0.18",
            "_view_name": "LeafletTileLayerView",
            "attribution": "&copy; <a href=\"https://www.openstreetmap.org/copyright\">OpenStreetMap</a> contributors",
            "base": true,
            "bottom": true,
            "bounds": null,
            "detect_retina": false,
            "loading": false,
            "max_native_zoom": null,
            "max_zoom": 19,
            "min_native_zoom": null,
            "min_zoom": 1,
            "name": "OpenStreetMap.Mapnik",
            "no_wrap": false,
            "opacity": 1,
            "options": [
              "attribution",
              "bounds",
              "detect_retina",
              "max_native_zoom",
              "max_zoom",
              "min_native_zoom",
              "min_zoom",
              "no_wrap",
              "tile_size",
              "tms",
              "zoom_offset"
            ],
            "pane": "",
            "popup": null,
            "popup_max_height": null,
            "popup_max_width": 300,
            "popup_min_width": 50,
            "show_loading": false,
            "subitems": [],
            "tile_size": 256,
            "tms": false,
            "url": "https://tile.openstreetmap.org/{z}/{x}/{y}.png",
            "visible": true,
            "zoom_offset": 0
          }
        },
        "2951aa8cea554075bc48b988f2a8b867": {
          "model_module": "jupyter-leaflet",
          "model_name": "LeafletTileLayerModel",
          "model_module_version": "^0.18",
          "state": {
            "_model_module": "jupyter-leaflet",
            "_model_module_version": "^0.18",
            "_model_name": "LeafletTileLayerModel",
            "_view_count": null,
            "_view_module": "jupyter-leaflet",
            "_view_module_version": "^0.18",
            "_view_name": "LeafletTileLayerView",
            "attribution": "Google",
            "base": false,
            "bottom": true,
            "bounds": null,
            "detect_retina": false,
            "loading": false,
            "max_native_zoom": 100,
            "max_zoom": 100,
            "min_native_zoom": null,
            "min_zoom": 0,
            "name": "Google Satellite",
            "no_wrap": false,
            "opacity": 1,
            "options": [
              "attribution",
              "bounds",
              "detect_retina",
              "max_native_zoom",
              "max_zoom",
              "min_native_zoom",
              "min_zoom",
              "no_wrap",
              "tile_size",
              "tms",
              "zoom_offset"
            ],
            "pane": "",
            "popup": null,
            "popup_max_height": null,
            "popup_max_width": 300,
            "popup_min_width": 50,
            "show_loading": false,
            "subitems": [],
            "tile_size": 256,
            "tms": false,
            "url": "https://mt1.google.com/vt/lyrs=y&x={x}&y={y}&z={z}",
            "visible": true,
            "zoom_offset": 0
          }
        },
        "ac9857b57d114514b7ad1ec78439ec78": {
          "model_module": "jupyter-leaflet",
          "model_name": "LeafletTileLayerModel",
          "model_module_version": "^0.18",
          "state": {
            "_model_module": "jupyter-leaflet",
            "_model_module_version": "^0.18",
            "_model_name": "LeafletTileLayerModel",
            "_view_count": null,
            "_view_module": "jupyter-leaflet",
            "_view_module_version": "^0.18",
            "_view_name": "LeafletTileLayerView",
            "attribution": "Google Earth Engine",
            "base": false,
            "bottom": true,
            "bounds": null,
            "detect_retina": false,
            "loading": false,
            "max_native_zoom": null,
            "max_zoom": 24,
            "min_native_zoom": null,
            "min_zoom": 0,
            "name": "NDVI June",
            "no_wrap": false,
            "opacity": 1,
            "options": [
              "attribution",
              "bounds",
              "detect_retina",
              "max_native_zoom",
              "max_zoom",
              "min_native_zoom",
              "min_zoom",
              "no_wrap",
              "tile_size",
              "tms",
              "zoom_offset"
            ],
            "pane": "",
            "popup": null,
            "popup_max_height": null,
            "popup_max_width": 300,
            "popup_min_width": 50,
            "show_loading": false,
            "subitems": [],
            "tile_size": 256,
            "tms": false,
            "url": "https://earthengine.googleapis.com/v1/projects/geographic-information-systems/maps/a6ad4bce43e7eace2e1727475a1dd6a5-6b1786afc2a385db77f2fa44ea636e8a/tiles/{z}/{x}/{y}",
            "visible": true,
            "zoom_offset": 0
          }
        },
        "93e7ec36386a4744af4280b8daade157": {
          "model_module": "jupyter-leaflet",
          "model_name": "LeafletTileLayerModel",
          "model_module_version": "^0.18",
          "state": {
            "_model_module": "jupyter-leaflet",
            "_model_module_version": "^0.18",
            "_model_name": "LeafletTileLayerModel",
            "_view_count": null,
            "_view_module": "jupyter-leaflet",
            "_view_module_version": "^0.18",
            "_view_name": "LeafletTileLayerView",
            "attribution": "Google Earth Engine",
            "base": false,
            "bottom": true,
            "bounds": null,
            "detect_retina": false,
            "loading": false,
            "max_native_zoom": null,
            "max_zoom": 24,
            "min_native_zoom": null,
            "min_zoom": 0,
            "name": "Loggers",
            "no_wrap": false,
            "opacity": 1,
            "options": [
              "attribution",
              "bounds",
              "detect_retina",
              "max_native_zoom",
              "max_zoom",
              "min_native_zoom",
              "min_zoom",
              "no_wrap",
              "tile_size",
              "tms",
              "zoom_offset"
            ],
            "pane": "",
            "popup": null,
            "popup_max_height": null,
            "popup_max_width": 300,
            "popup_min_width": 50,
            "show_loading": false,
            "subitems": [],
            "tile_size": 256,
            "tms": false,
            "url": "https://earthengine.googleapis.com/v1/projects/geographic-information-systems/maps/7e7f457daf08b0b584692fc1438f0965-3e25b2ed49ac3ea03ad7f405f568c174/tiles/{z}/{x}/{y}",
            "visible": true,
            "zoom_offset": 0
          }
        },
        "ed5f08a161744206b072829081e74f9f": {
          "model_module": "@jupyter-widgets/base",
          "model_name": "LayoutModel",
          "model_module_version": "1.2.0",
          "state": {
            "_model_module": "@jupyter-widgets/base",
            "_model_module_version": "1.2.0",
            "_model_name": "LayoutModel",
            "_view_count": null,
            "_view_module": "@jupyter-widgets/base",
            "_view_module_version": "1.2.0",
            "_view_name": "LayoutView",
            "align_content": null,
            "align_items": null,
            "align_self": null,
            "border": null,
            "bottom": null,
            "display": null,
            "flex": null,
            "flex_flow": null,
            "grid_area": null,
            "grid_auto_columns": null,
            "grid_auto_flow": null,
            "grid_auto_rows": null,
            "grid_column": null,
            "grid_gap": null,
            "grid_row": null,
            "grid_template_areas": null,
            "grid_template_columns": null,
            "grid_template_rows": null,
            "height": "600px",
            "justify_content": null,
            "justify_items": null,
            "left": null,
            "margin": null,
            "max_height": null,
            "max_width": null,
            "min_height": null,
            "min_width": null,
            "object_fit": null,
            "object_position": null,
            "order": null,
            "overflow": null,
            "overflow_x": null,
            "overflow_y": null,
            "padding": null,
            "right": null,
            "top": null,
            "visibility": null,
            "width": null
          }
        },
        "880c58cec1a84e1488aaec7f17ff2646": {
          "model_module": "jupyter-leaflet",
          "model_name": "LeafletMapStyleModel",
          "model_module_version": "^0.18",
          "state": {
            "_model_module": "jupyter-leaflet",
            "_model_module_version": "^0.18",
            "_model_name": "LeafletMapStyleModel",
            "_view_count": null,
            "_view_module": "@jupyter-widgets/base",
            "_view_module_version": "1.2.0",
            "_view_name": "StyleView",
            "cursor": "grab"
          }
        },
        "573629b337534a10b054ea263225a4b4": {
          "model_module": "@jupyter-widgets/controls",
          "model_name": "HBoxModel",
          "model_module_version": "1.5.0",
          "state": {
            "_dom_classes": [
              "geemap-colab"
            ],
            "_model_module": "@jupyter-widgets/controls",
            "_model_module_version": "1.5.0",
            "_model_name": "HBoxModel",
            "_view_count": null,
            "_view_module": "@jupyter-widgets/controls",
            "_view_module_version": "1.5.0",
            "_view_name": "HBoxView",
            "box_style": "",
            "children": [
              "IPY_MODEL_37bc686f7d634725af620a0fdb88d94a"
            ],
            "layout": "IPY_MODEL_9cf7425ff0c0442c92990b3bf69e391a"
          }
        },
        "2ec2c94bee46402ba4115aa848cba78e": {
          "model_module": "@jupyter-widgets/controls",
          "model_name": "VBoxModel",
          "model_module_version": "1.5.0",
          "state": {
            "_dom_classes": [
              "geemap-colab"
            ],
            "_model_module": "@jupyter-widgets/controls",
            "_model_module_version": "1.5.0",
            "_model_name": "VBoxModel",
            "_view_count": null,
            "_view_module": "@jupyter-widgets/controls",
            "_view_module_version": "1.5.0",
            "_view_name": "VBoxView",
            "box_style": "",
            "children": [
              "IPY_MODEL_0fe9c21ba585463d91c694285d9be29e"
            ],
            "layout": "IPY_MODEL_e5273058b9d94219a39f74937976685f"
          }
        },
        "37bc686f7d634725af620a0fdb88d94a": {
          "model_module": "@jupyter-widgets/controls",
          "model_name": "ToggleButtonModel",
          "model_module_version": "1.5.0",
          "state": {
            "_dom_classes": [],
            "_model_module": "@jupyter-widgets/controls",
            "_model_module_version": "1.5.0",
            "_model_name": "ToggleButtonModel",
            "_view_count": null,
            "_view_module": "@jupyter-widgets/controls",
            "_view_module_version": "1.5.0",
            "_view_name": "ToggleButtonView",
            "button_style": "",
            "description": "",
            "description_tooltip": null,
            "disabled": false,
            "icon": "globe",
            "layout": "IPY_MODEL_529677b75fc5445cae92bf7cebbce452",
            "style": "IPY_MODEL_876a28a32f6c4fa0865e321df8f67697",
            "tooltip": "Search location/data",
            "value": false
          }
        },
        "9cf7425ff0c0442c92990b3bf69e391a": {
          "model_module": "@jupyter-widgets/base",
          "model_name": "LayoutModel",
          "model_module_version": "1.2.0",
          "state": {
            "_model_module": "@jupyter-widgets/base",
            "_model_module_version": "1.2.0",
            "_model_name": "LayoutModel",
            "_view_count": null,
            "_view_module": "@jupyter-widgets/base",
            "_view_module_version": "1.2.0",
            "_view_name": "LayoutView",
            "align_content": null,
            "align_items": null,
            "align_self": null,
            "border": null,
            "bottom": null,
            "display": null,
            "flex": null,
            "flex_flow": null,
            "grid_area": null,
            "grid_auto_columns": null,
            "grid_auto_flow": null,
            "grid_auto_rows": null,
            "grid_column": null,
            "grid_gap": null,
            "grid_row": null,
            "grid_template_areas": null,
            "grid_template_columns": null,
            "grid_template_rows": null,
            "height": null,
            "justify_content": null,
            "justify_items": null,
            "left": null,
            "margin": null,
            "max_height": null,
            "max_width": null,
            "min_height": null,
            "min_width": null,
            "object_fit": null,
            "object_position": null,
            "order": null,
            "overflow": null,
            "overflow_x": null,
            "overflow_y": null,
            "padding": null,
            "right": null,
            "top": null,
            "visibility": null,
            "width": null
          }
        },
        "0fe9c21ba585463d91c694285d9be29e": {
          "model_module": "@jupyter-widgets/controls",
          "model_name": "ToggleButtonModel",
          "model_module_version": "1.5.0",
          "state": {
            "_dom_classes": [],
            "_model_module": "@jupyter-widgets/controls",
            "_model_module_version": "1.5.0",
            "_model_name": "ToggleButtonModel",
            "_view_count": null,
            "_view_module": "@jupyter-widgets/controls",
            "_view_module_version": "1.5.0",
            "_view_name": "ToggleButtonView",
            "button_style": "",
            "description": "",
            "description_tooltip": null,
            "disabled": false,
            "icon": "wrench",
            "layout": "IPY_MODEL_2870e91f41794cb483f3a5eb44c8a347",
            "style": "IPY_MODEL_fad34e8b5a934bc7ab65270ccbb8788f",
            "tooltip": "Toolbar",
            "value": false
          }
        },
        "e5273058b9d94219a39f74937976685f": {
          "model_module": "@jupyter-widgets/base",
          "model_name": "LayoutModel",
          "model_module_version": "1.2.0",
          "state": {
            "_model_module": "@jupyter-widgets/base",
            "_model_module_version": "1.2.0",
            "_model_name": "LayoutModel",
            "_view_count": null,
            "_view_module": "@jupyter-widgets/base",
            "_view_module_version": "1.2.0",
            "_view_name": "LayoutView",
            "align_content": null,
            "align_items": null,
            "align_self": null,
            "border": null,
            "bottom": null,
            "display": null,
            "flex": null,
            "flex_flow": null,
            "grid_area": null,
            "grid_auto_columns": null,
            "grid_auto_flow": null,
            "grid_auto_rows": null,
            "grid_column": null,
            "grid_gap": null,
            "grid_row": null,
            "grid_template_areas": null,
            "grid_template_columns": null,
            "grid_template_rows": null,
            "height": null,
            "justify_content": null,
            "justify_items": null,
            "left": null,
            "margin": null,
            "max_height": null,
            "max_width": null,
            "min_height": null,
            "min_width": null,
            "object_fit": null,
            "object_position": null,
            "order": null,
            "overflow": null,
            "overflow_x": null,
            "overflow_y": null,
            "padding": null,
            "right": null,
            "top": null,
            "visibility": null,
            "width": null
          }
        },
        "529677b75fc5445cae92bf7cebbce452": {
          "model_module": "@jupyter-widgets/base",
          "model_name": "LayoutModel",
          "model_module_version": "1.2.0",
          "state": {
            "_model_module": "@jupyter-widgets/base",
            "_model_module_version": "1.2.0",
            "_model_name": "LayoutModel",
            "_view_count": null,
            "_view_module": "@jupyter-widgets/base",
            "_view_module_version": "1.2.0",
            "_view_name": "LayoutView",
            "align_content": null,
            "align_items": null,
            "align_self": null,
            "border": null,
            "bottom": null,
            "display": null,
            "flex": null,
            "flex_flow": null,
            "grid_area": null,
            "grid_auto_columns": null,
            "grid_auto_flow": null,
            "grid_auto_rows": null,
            "grid_column": null,
            "grid_gap": null,
            "grid_row": null,
            "grid_template_areas": null,
            "grid_template_columns": null,
            "grid_template_rows": null,
            "height": "28px",
            "justify_content": null,
            "justify_items": null,
            "left": null,
            "margin": null,
            "max_height": null,
            "max_width": null,
            "min_height": null,
            "min_width": null,
            "object_fit": null,
            "object_position": null,
            "order": null,
            "overflow": null,
            "overflow_x": null,
            "overflow_y": null,
            "padding": "0px 0px 0px 4px",
            "right": null,
            "top": null,
            "visibility": null,
            "width": "28px"
          }
        },
        "876a28a32f6c4fa0865e321df8f67697": {
          "model_module": "@jupyter-widgets/controls",
          "model_name": "DescriptionStyleModel",
          "model_module_version": "1.5.0",
          "state": {
            "_model_module": "@jupyter-widgets/controls",
            "_model_module_version": "1.5.0",
            "_model_name": "DescriptionStyleModel",
            "_view_count": null,
            "_view_module": "@jupyter-widgets/base",
            "_view_module_version": "1.2.0",
            "_view_name": "StyleView",
            "description_width": ""
          }
        },
        "2870e91f41794cb483f3a5eb44c8a347": {
          "model_module": "@jupyter-widgets/base",
          "model_name": "LayoutModel",
          "model_module_version": "1.2.0",
          "state": {
            "_model_module": "@jupyter-widgets/base",
            "_model_module_version": "1.2.0",
            "_model_name": "LayoutModel",
            "_view_count": null,
            "_view_module": "@jupyter-widgets/base",
            "_view_module_version": "1.2.0",
            "_view_name": "LayoutView",
            "align_content": null,
            "align_items": null,
            "align_self": null,
            "border": null,
            "bottom": null,
            "display": null,
            "flex": null,
            "flex_flow": null,
            "grid_area": null,
            "grid_auto_columns": null,
            "grid_auto_flow": null,
            "grid_auto_rows": null,
            "grid_column": null,
            "grid_gap": null,
            "grid_row": null,
            "grid_template_areas": null,
            "grid_template_columns": null,
            "grid_template_rows": null,
            "height": "28px",
            "justify_content": null,
            "justify_items": null,
            "left": null,
            "margin": null,
            "max_height": null,
            "max_width": null,
            "min_height": null,
            "min_width": null,
            "object_fit": null,
            "object_position": null,
            "order": null,
            "overflow": null,
            "overflow_x": null,
            "overflow_y": null,
            "padding": "0px 0px 0px 4px",
            "right": null,
            "top": null,
            "visibility": null,
            "width": "28px"
          }
        },
        "fad34e8b5a934bc7ab65270ccbb8788f": {
          "model_module": "@jupyter-widgets/controls",
          "model_name": "DescriptionStyleModel",
          "model_module_version": "1.5.0",
          "state": {
            "_model_module": "@jupyter-widgets/controls",
            "_model_module_version": "1.5.0",
            "_model_name": "DescriptionStyleModel",
            "_view_count": null,
            "_view_module": "@jupyter-widgets/base",
            "_view_module_version": "1.2.0",
            "_view_name": "StyleView",
            "description_width": ""
          }
        }
      }
    }
  },
  "cells": [
    {
      "cell_type": "markdown",
      "metadata": {
        "id": "view-in-github",
        "colab_type": "text"
      },
      "source": [
        "<a href=\"https://colab.research.google.com/github/llindish/Complete-Python-3-Bootcamp/blob/master/WTD_model/GEE_code/FlandersMoss_S2_mosaics.ipynb\" target=\"_parent\"><img src=\"https://colab.research.google.com/assets/colab-badge.svg\" alt=\"Open In Colab\"/></a>"
      ]
    },
    {
      "cell_type": "code",
      "execution_count": 23,
      "metadata": {
        "id": "7BPB0tEPTNqh",
        "colab": {
          "base_uri": "https://localhost:8080/",
          "height": 17
        },
        "outputId": "f15d9f46-3554-441e-e75a-3f760a3a9592"
      },
      "outputs": [
        {
          "output_type": "display_data",
          "data": {
            "text/plain": [
              "<IPython.core.display.HTML object>"
            ],
            "text/html": [
              "\n",
              "            <style>\n",
              "                .geemap-dark {\n",
              "                    --jp-widgets-color: white;\n",
              "                    --jp-widgets-label-color: white;\n",
              "                    --jp-ui-font-color1: white;\n",
              "                    --jp-layout-color2: #454545;\n",
              "                    background-color: #383838;\n",
              "                }\n",
              "                    \n",
              "                .geemap-dark .jupyter-button {\n",
              "                    --jp-layout-color3: #383838;\n",
              "                }\n",
              "                \n",
              "                .geemap-colab {\n",
              "                    background-color: var(--colab-primary-surface-color, white);\n",
              "                }\n",
              "                    \n",
              "                .geemap-colab .jupyter-button {\n",
              "                    --jp-layout-color3: var(--colab-primary-surface-color, white);\n",
              "                }\n",
              "            </style>\n",
              "            "
            ]
          },
          "metadata": {}
        }
      ],
      "source": [
        "import ee\n",
        "import geemap"
      ]
    },
    {
      "cell_type": "code",
      "source": [
        "##Authentification needed only once, first time you run the colab code\n",
        "from google.colab import auth\n",
        "auth.authenticate_user()"
      ],
      "metadata": {
        "colab": {
          "base_uri": "https://localhost:8080/",
          "height": 17
        },
        "id": "grTnYZSgorKH",
        "outputId": "4f43554d-f16a-4105-8423-58ce7a9b8f18"
      },
      "execution_count": 4,
      "outputs": [
        {
          "output_type": "display_data",
          "data": {
            "text/plain": [
              "<IPython.core.display.HTML object>"
            ],
            "text/html": [
              "\n",
              "            <style>\n",
              "                .geemap-dark {\n",
              "                    --jp-widgets-color: white;\n",
              "                    --jp-widgets-label-color: white;\n",
              "                    --jp-ui-font-color1: white;\n",
              "                    --jp-layout-color2: #454545;\n",
              "                    background-color: #383838;\n",
              "                }\n",
              "                    \n",
              "                .geemap-dark .jupyter-button {\n",
              "                    --jp-layout-color3: #383838;\n",
              "                }\n",
              "                \n",
              "                .geemap-colab {\n",
              "                    background-color: var(--colab-primary-surface-color, white);\n",
              "                }\n",
              "                    \n",
              "                .geemap-colab .jupyter-button {\n",
              "                    --jp-layout-color3: var(--colab-primary-surface-color, white);\n",
              "                }\n",
              "            </style>\n",
              "            "
            ]
          },
          "metadata": {}
        }
      ]
    },
    {
      "cell_type": "code",
      "source": [
        "cloud_project = 'geographic-information-systems'\n",
        "ee.Initialize(project=cloud_project)\n",
        "geemap.ee_initialize(project=cloud_project)"
      ],
      "metadata": {
        "colab": {
          "base_uri": "https://localhost:8080/",
          "height": 17
        },
        "id": "bt1piPoATaXB",
        "outputId": "b6b536d3-fa1c-4629-96f4-cd973f5bb442"
      },
      "execution_count": 24,
      "outputs": [
        {
          "output_type": "display_data",
          "data": {
            "text/plain": [
              "<IPython.core.display.HTML object>"
            ],
            "text/html": [
              "\n",
              "            <style>\n",
              "                .geemap-dark {\n",
              "                    --jp-widgets-color: white;\n",
              "                    --jp-widgets-label-color: white;\n",
              "                    --jp-ui-font-color1: white;\n",
              "                    --jp-layout-color2: #454545;\n",
              "                    background-color: #383838;\n",
              "                }\n",
              "                    \n",
              "                .geemap-dark .jupyter-button {\n",
              "                    --jp-layout-color3: #383838;\n",
              "                }\n",
              "                \n",
              "                .geemap-colab {\n",
              "                    background-color: var(--colab-primary-surface-color, white);\n",
              "                }\n",
              "                    \n",
              "                .geemap-colab .jupyter-button {\n",
              "                    --jp-layout-color3: var(--colab-primary-surface-color, white);\n",
              "                }\n",
              "            </style>\n",
              "            "
            ]
          },
          "metadata": {}
        }
      ]
    },
    {
      "cell_type": "code",
      "source": [
        "\n",
        "#monthly Senitnel-2 iamgery with CS+ mask for Flanders moss\n",
        "\n",
        "# !Specify the asset (only for vosialisation here on GEEmap, can be skipped)\n",
        "#asset (.shp file of the loggers stored on GEE as asset)\n",
        "asset_id = 'users/llindish/PA_sites/PA_Flanderssmoss'\n",
        "\n",
        "# !Specify the year.\n",
        "year = 2021;\n",
        "\n",
        "# !Specify the name of your bucket(where would you like to export) and the specific location in the bucket\n",
        "bucket = 'soilmoisture-jbdsag'\n",
        "path = 'GEE_exports_LT/S2/Flanders_Moss/Brit_grid_27700/2021'\n",
        "\n",
        "# make sure the asset is a feature collection\n",
        "geometry = ee.FeatureCollection(asset_id)\n",
        "\n",
        "# !Specify the boundary box (the images area is based on these coordinates)\n",
        "coords = [[-4.235209770562007,56.14116342121212],\n",
        "          [-4.160708732964351,56.14116342121212],\n",
        "          [-4.160708732964351,56.176725376357545],\n",
        "          [-4.235209770562007,56.176725376357545],\n",
        "          [-4.235209770562007,56.14116342121212]]\n",
        "\n",
        "# Cloud Score+ image collection.\n",
        "csPlus = ee.ImageCollection('GOOGLE/CLOUD_SCORE_PLUS/V1/S2_HARMONIZED')\n",
        "\n",
        "# Harmonized Sentinel-2 Level 2A collection.\n",
        "s2 = ee.ImageCollection('COPERNICUS/S2_SR_HARMONIZED')\n",
        "\n",
        "# Link S2 and CS+ results.\n",
        "linkedCollection = s2.linkCollection(csPlus, ['cs', 'cs_cdf'])\n",
        "\n",
        "# Masks pixels with low CS+ QA scores.\n",
        "def maskLowQA(image):\n",
        "    qaBand = 'cs'\n",
        "    clearThreshold = 0.60\n",
        "    mask = image.select(qaBand).gte(clearThreshold)\n",
        "    return image.updateMask(mask)\n",
        "\n",
        "# NDVI and NDWI calculation function.\n",
        "def addIndices(image):\n",
        "    ndvi = image.normalizedDifference(['B8', 'B4']).rename('NDVI')\n",
        "    ndwi = image.normalizedDifference(['B8', 'B3']).rename('NDWI')\n",
        "    return image.addBands(ndvi).addBands(ndwi)\n",
        "\n",
        "# Create the polygon\n",
        "aoi = ee.Geometry.Polygon(coords)\n",
        "\n",
        "# Convert the year to ee.Date objects\n",
        "start_date = ee.Date.fromYMD(year, 1, 1)\n",
        "end_date = ee.Date.fromYMD(year, 12, 31)\n",
        "\n",
        "# Apply the cloud mask and NDVI calculation.\n",
        "withIndices = linkedCollection.filterBounds(aoi).filterDate(start_date, end_date).map(maskLowQA).map(addIndices)\n",
        "\n",
        "# Function to filter images by month and compute the median\n",
        "def monthly_median(year, month):\n",
        "    start_date = ee.Date.fromYMD(year, month, 1)\n",
        "    end_date = start_date.advance(1, 'month')\n",
        "    monthly_images = withNDVI.filterDate(start_date, end_date)\n",
        "    median_image = monthly_images.median()\n",
        "    return median_image.set('system:time_start', start_date.millis(), 'month', month)\n",
        "\n",
        "# Create a list of months\n",
        "months = ee.List.sequence(1, 12)\n",
        "\n",
        "# Map the function over the list of months to get a new ImageCollection\n",
        "monthly_medians = ee.ImageCollection.fromImages(months.map(lambda m: monthly_median(year, m)))\n",
        "\n",
        "# Export each image in the ImageCollection\n",
        "def export_image(img):\n",
        "    \"\"\"Inner function to export a single image.\"\"\"\n",
        "    month = ee.Number(img.get('month')).format('%02d').getInfo()\n",
        "    # Construct the file name prefix.\n",
        "    file_name_prefix = f\"{path}/FM_S2_monthly_{year}_{month}\"\n",
        "    print(f\"Exporting {file_name_prefix}\")\n",
        "     # Cast all bands to Float32.\n",
        "    img = img.float()\n",
        "    export_options = {\n",
        "        'image': img,\n",
        "        'bucket': bucket_name,\n",
        "        'fileNamePrefix': file_name_prefix,\n",
        "        'region': aoi,\n",
        "        'scale': 10,\n",
        "        'maxPixels': 1e10,\n",
        "        'crs': 'EPSG:27700'\n",
        "    }\n",
        "    task = ee.batch.Export.image.toCloudStorage(**export_options)\n",
        "    task.start()\n",
        "\n",
        "# Initialize your ImageCollection\n",
        "image_collection = monthly_medians\n",
        "# Specify your bucket name\n",
        "bucket_name = bucket\n",
        "folder_path = path\n",
        "\n",
        "# Call the function\n",
        "monthly_medians_list = monthly_medians.toList(monthly_medians.size())\n",
        "for i in range(monthly_medians_list.size().getInfo()):\n",
        "    img = ee.Image(monthly_medians_list.get(i))\n",
        "    export_image(img)"
      ],
      "metadata": {
        "colab": {
          "base_uri": "https://localhost:8080/",
          "height": 238
        },
        "id": "geN3OM7lbv3v",
        "outputId": "10ea4332-d36c-4fe2-95b4-8ea65ccbb9db"
      },
      "execution_count": 63,
      "outputs": [
        {
          "output_type": "display_data",
          "data": {
            "text/plain": [
              "<IPython.core.display.HTML object>"
            ],
            "text/html": [
              "\n",
              "            <style>\n",
              "                .geemap-dark {\n",
              "                    --jp-widgets-color: white;\n",
              "                    --jp-widgets-label-color: white;\n",
              "                    --jp-ui-font-color1: white;\n",
              "                    --jp-layout-color2: #454545;\n",
              "                    background-color: #383838;\n",
              "                }\n",
              "                    \n",
              "                .geemap-dark .jupyter-button {\n",
              "                    --jp-layout-color3: #383838;\n",
              "                }\n",
              "                \n",
              "                .geemap-colab {\n",
              "                    background-color: var(--colab-primary-surface-color, white);\n",
              "                }\n",
              "                    \n",
              "                .geemap-colab .jupyter-button {\n",
              "                    --jp-layout-color3: var(--colab-primary-surface-color, white);\n",
              "                }\n",
              "            </style>\n",
              "            "
            ]
          },
          "metadata": {}
        },
        {
          "output_type": "stream",
          "name": "stdout",
          "text": [
            "Exporting GEE_exports_LT/S2/Flanders_Moss/Brit_grid_27700/2021/FM_S2_monthly_2021_01\n",
            "Exporting GEE_exports_LT/S2/Flanders_Moss/Brit_grid_27700/2021/FM_S2_monthly_2021_02\n",
            "Exporting GEE_exports_LT/S2/Flanders_Moss/Brit_grid_27700/2021/FM_S2_monthly_2021_03\n",
            "Exporting GEE_exports_LT/S2/Flanders_Moss/Brit_grid_27700/2021/FM_S2_monthly_2021_04\n",
            "Exporting GEE_exports_LT/S2/Flanders_Moss/Brit_grid_27700/2021/FM_S2_monthly_2021_05\n",
            "Exporting GEE_exports_LT/S2/Flanders_Moss/Brit_grid_27700/2021/FM_S2_monthly_2021_06\n",
            "Exporting GEE_exports_LT/S2/Flanders_Moss/Brit_grid_27700/2021/FM_S2_monthly_2021_07\n",
            "Exporting GEE_exports_LT/S2/Flanders_Moss/Brit_grid_27700/2021/FM_S2_monthly_2021_08\n",
            "Exporting GEE_exports_LT/S2/Flanders_Moss/Brit_grid_27700/2021/FM_S2_monthly_2021_09\n",
            "Exporting GEE_exports_LT/S2/Flanders_Moss/Brit_grid_27700/2021/FM_S2_monthly_2021_10\n",
            "Exporting GEE_exports_LT/S2/Flanders_Moss/Brit_grid_27700/2021/FM_S2_monthly_2021_11\n",
            "Exporting GEE_exports_LT/S2/Flanders_Moss/Brit_grid_27700/2021/FM_S2_monthly_2021_12\n"
          ]
        }
      ]
    },
    {
      "cell_type": "code",
      "source": [
        "#Visualisatioz on GEEmap\n",
        "\n",
        "map = geemap.Map()\n",
        "url = \"https://mt1.google.com/vt/lyrs=y&x={x}&y={y}&z={z}\"\n",
        "map.add_tile_layer(url, name=\"Google Satellite\", attribution=\"Google\")\n",
        "\n",
        "# Centre the map view over the ROI\n",
        "map.centerObject(geometry, 13)\n",
        "\n",
        "# !Specify the month\n",
        "month = 3\n",
        "\n",
        "# Convert the year and month to ee.Date objects\n",
        "start_date = ee.Date.fromYMD(year, month, 1)\n",
        "end_date = start_date.advance(1, 'month')\n",
        "\n",
        "# Filter the collection for the specified month and create a mosaic\n",
        "monthly_mosaic = image_collection.filterBounds(my_aoi).filterDate(start_date, end_date).mosaic()\n",
        "\n",
        "# Clip the mosaic to your area of interest\n",
        "clipped_mosaic = monthly_mosaic.clip(my_aoi)\n",
        "\n",
        "# Select the NDVI band\n",
        "ndvi_band = clipped_mosaic.select('NDVI')\n",
        "\n",
        "# Define visualization parameters\n",
        "viz_params = {\n",
        "    'min': -1,\n",
        "    'max': 1,\n",
        "    'palette': ['blue', 'white', 'green']\n",
        "}\n",
        "\n",
        "# Add the NDVI band to the map\n",
        "map.addLayer(ndvi_band, viz_params, 'NDVI June')\n",
        "map.addLayer(geometry, {'color': 'red'}, 'Loggers')\n",
        "\n",
        "map"
      ],
      "metadata": {
        "colab": {
          "base_uri": "https://localhost:8080/",
          "height": 621,
          "referenced_widgets": [
            "c8b53bb15b7849c5a613eb7b0668f9b7",
            "6e5d486ee6b64af8bf9e0fad194854f3",
            "8fe204de4d974f6eb602e8eb1103e736",
            "2e9584d7ab154ee8a124e26e480d585f",
            "4ff7c6554a4c44ecb4883c8cf7f9a4b5",
            "eb4377b227a04cbabcdcdbdeb77f1c91",
            "da79a6593c3943e4869e053ec01d0db7",
            "f268832936f64a619ec2d144def10074",
            "11479d1fceb8482b84021a3b51d3367d",
            "060a9ab79a8948cbbad340f1c8a411e2",
            "428ac9e70ef64db9a77955d0bf7cb48f",
            "d782b63d3d4c4b1cb9ca07bcf9b7a0fe",
            "2951aa8cea554075bc48b988f2a8b867",
            "ac9857b57d114514b7ad1ec78439ec78",
            "93e7ec36386a4744af4280b8daade157",
            "ed5f08a161744206b072829081e74f9f",
            "880c58cec1a84e1488aaec7f17ff2646",
            "573629b337534a10b054ea263225a4b4",
            "2ec2c94bee46402ba4115aa848cba78e",
            "37bc686f7d634725af620a0fdb88d94a",
            "9cf7425ff0c0442c92990b3bf69e391a",
            "0fe9c21ba585463d91c694285d9be29e",
            "e5273058b9d94219a39f74937976685f",
            "529677b75fc5445cae92bf7cebbce452",
            "876a28a32f6c4fa0865e321df8f67697",
            "2870e91f41794cb483f3a5eb44c8a347",
            "fad34e8b5a934bc7ab65270ccbb8788f"
          ]
        },
        "id": "iqQrTFHpphwv",
        "outputId": "bbad9ba2-7e5f-48bb-b063-bac7e93f96a3"
      },
      "execution_count": 62,
      "outputs": [
        {
          "output_type": "display_data",
          "data": {
            "text/plain": [
              "<IPython.core.display.HTML object>"
            ],
            "text/html": [
              "\n",
              "            <style>\n",
              "                .geemap-dark {\n",
              "                    --jp-widgets-color: white;\n",
              "                    --jp-widgets-label-color: white;\n",
              "                    --jp-ui-font-color1: white;\n",
              "                    --jp-layout-color2: #454545;\n",
              "                    background-color: #383838;\n",
              "                }\n",
              "                    \n",
              "                .geemap-dark .jupyter-button {\n",
              "                    --jp-layout-color3: #383838;\n",
              "                }\n",
              "                \n",
              "                .geemap-colab {\n",
              "                    background-color: var(--colab-primary-surface-color, white);\n",
              "                }\n",
              "                    \n",
              "                .geemap-colab .jupyter-button {\n",
              "                    --jp-layout-color3: var(--colab-primary-surface-color, white);\n",
              "                }\n",
              "            </style>\n",
              "            "
            ]
          },
          "metadata": {}
        },
        {
          "output_type": "display_data",
          "data": {
            "text/plain": [
              "Map(center=[56.16272439597686, -4.19856006658251], controls=(WidgetControl(options=['position', 'transparent_b…"
            ],
            "application/vnd.jupyter.widget-view+json": {
              "version_major": 2,
              "version_minor": 0,
              "model_id": "c8b53bb15b7849c5a613eb7b0668f9b7"
            }
          },
          "metadata": {
            "application/vnd.jupyter.widget-view+json": {
              "colab": {
                "custom_widget_manager": {
                  "url": "https://ssl.gstatic.com/colaboratory-static/widgets/colab-cdn-widget-manager/2b70e893a8ba7c0f/manager.min.js"
                }
              }
            }
          }
        }
      ]
    }
  ]
}